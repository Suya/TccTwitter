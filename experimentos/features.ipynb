{
 "cells": [
  {
   "cell_type": "code",
   "execution_count": 2,
   "metadata": {
    "collapsed": false
   },
   "outputs": [],
   "source": [
    "#nltk.download()"
   ]
  },
  {
   "cell_type": "markdown",
   "metadata": {},
   "source": [
    "# Notebook para extrair features de menções\n",
    "## Nome: "
   ]
  },
  {
   "cell_type": "code",
   "execution_count": 3,
   "metadata": {
    "collapsed": false
   },
   "outputs": [
    {
     "data": {
      "text/html": [
       "<script>\n",
       "code_show=true; \n",
       "function code_toggle() {\n",
       " if (code_show){\n",
       " $('div.input').hide();\n",
       " } else {\n",
       " $('div.input').show();\n",
       " }\n",
       " code_show = !code_show\n",
       "} \n",
       "$( document ).ready(code_toggle);\n",
       "</script>\n",
       "<form action=\"javascript:code_toggle()\"><input type=\"submit\" value=\"Click here to toggle on/off the raw code.\"></form>"
      ],
      "text/plain": [
       "<IPython.core.display.HTML object>"
      ]
     },
     "execution_count": 3,
     "metadata": {},
     "output_type": "execute_result"
    }
   ],
   "source": [
    "from IPython.display import HTML\n",
    "\n",
    "HTML('''<script>\n",
    "code_show=true; \n",
    "function code_toggle() {\n",
    " if (code_show){\n",
    " $('div.input').hide();\n",
    " } else {\n",
    " $('div.input').show();\n",
    " }\n",
    " code_show = !code_show\n",
    "} \n",
    "$( document ).ready(code_toggle);\n",
    "</script>\n",
    "<form action=\"javascript:code_toggle()\"><input type=\"submit\" value=\"Click here to toggle on/off the raw code.\"></form>''')"
   ]
  },
  {
   "cell_type": "code",
   "execution_count": 57,
   "metadata": {
    "collapsed": false
   },
   "outputs": [],
   "source": [
    "import numpy as np\n",
    "from pylab import *\n",
    "import csv\n",
    "from wordcloud import WordCloud, STOPWORDS\n",
    "\n",
    "\n",
    "#import utils\n",
    "\n",
    "%matplotlib inline\n",
    "import matplotlib.pyplot as plt\n",
    "import pandas as pd\n",
    "\n",
    "import json\n",
    "\n",
    "\n",
    "import json\n",
    "import csv\n",
    "import gc\n",
    "from pandas import read_csv\n",
    "\n",
    "\n",
    "\n",
    "\n"
   ]
  },
  {
   "cell_type": "code",
   "execution_count": 58,
   "metadata": {
    "collapsed": false
   },
   "outputs": [],
   "source": [
    "#calcular flesch_reading e ambiguidade\n",
    "\n",
    "from textstat.textstat import textstat\n",
    "\n",
    "import nltk\n",
    "from nltk.tokenize import sent_tokenize\n",
    "from nltk import word_tokenize\n",
    "import string\n",
    "from nltk.corpus import wordnet as wn\n",
    "from nltk.corpus import stopwords\n",
    "\n",
    "#nltk.download()\n",
    "\n",
    "\n",
    "pd.set_option('display.max_colwidth', -1)\n",
    "#textD=reviewFileDF['text'][:1].astype(str)\n",
    "\n",
    "\n",
    "class text_object(object):\n",
    "\n",
    "    def __init__(self):\n",
    "        self.word_count = 0\n",
    "        self.sentence_count = 0\n",
    "        self.syllable_count = 0\n",
    "        self.number_diff_words = 0 #to be calculated\n",
    "        self.avg_syllables_per_word = 0\n",
    "        self.avg_sentence_length = 0\n",
    "        #should frequency and top words be included?\n",
    "        \n",
    "    def print_metrics(self):\n",
    "        print \"word count =\"\n",
    "        print self.word_count\n",
    "    \n",
    "        print \"sentence count =\"\n",
    "        print self.sentence_count\n",
    "    \n",
    "        print \"syllable count =\"\n",
    "        print self.syllable_count\n",
    "    \n",
    "        print \"avg syllable per word =\"\n",
    "        print self.avg_syllables_per_word\n",
    "    \n",
    "        print \"avg sentence length =\"\n",
    "        print self.avg_sentence_length\n",
    "\n",
    "        \n",
    "def calc_basic_metrics (stat):\n",
    "\n",
    "    #numberDiffWords #to be calculated\n",
    "    textObj = text_object()\n",
    "        \n",
    "    textObj.sentence_count = sentence_count(stat)\n",
    "    textObj.word_count = word_count(stat)\n",
    "    textObj.syllable_count = syllable_count(stat)    \n",
    "    textObj.avg_syllables_per_word = avg_syllables_per_word(stat)\n",
    "    textObj.avg_sentence_length = avg_sentence_length(stat)\n",
    "    \n",
    "    #dfTwitter.write_csv(\"/sdf/asdf/asd\")\n",
    "    \n",
    "    return textObj\n",
    "        \n",
    "def preprocess_text(texto):\n",
    "    tokens = nltk.word_tokenize(texto.decode('utf-8'))\n",
    "    #check lenght words\n",
    "    words = [w.lower() for w in tokens if len(w)<20]\n",
    "    #print(words)   \n",
    "\n",
    "    #print(texto)   \n",
    "    #texto = nltk.Text(words)\n",
    "    return \"\".join([\" \"+i if not i.startswith(\"'\") and i not in string.punctuation else i for i in words]).strip()  \n",
    "\n",
    "def avg_sentence_length (texto):\n",
    "    x=0\n",
    "    try:\n",
    "        x= textstat.avg_sentence_length(texto)\n",
    "    except:\n",
    "        x=0\n",
    "    return x\n",
    "\n",
    "def avg_syllables_per_word (texto):\n",
    "    x=0\n",
    "    try:\n",
    "        x= textstat.avg_syllables_per_word(texto)\n",
    "    except:\n",
    "        x=0\n",
    "    return x\n",
    "\n",
    "def word_count (texto):\n",
    "    x=0\n",
    "    try:\n",
    "        x= textstat.lexicon_count(texto)\n",
    "    except:\n",
    "        x=0\n",
    "    return x\n",
    "\n",
    "def sentence_count (texto):\n",
    "    x=0\n",
    "    try:\n",
    "        x= textstat.sentence_count(texto)\n",
    "    except:\n",
    "        x=0\n",
    "    return x\n",
    "\n",
    "def syllable_count (texto):\n",
    "    x=0\n",
    "    try:\n",
    "        x= textstat.syllable_count(texto)\n",
    "    except:\n",
    "        x=0\n",
    "    return x\n",
    "\n",
    "def calc_flesch_reading_ease( text):\n",
    "\n",
    "    #text = preprocess_text(text)\n",
    "    x=0\n",
    "    try:\n",
    "        ASL = textstat.avg_sentence_length(text)\n",
    "        ASW = textstat.avg_syllables_per_word(text)\n",
    "\n",
    "        FRE = 206.835 - float(1.015 * ASL) - float(84.6 * ASW)\n",
    "        return round(FRE, 2)\n",
    "    except:\n",
    "        return 0\n",
    "\n",
    "def calc_coleman_liau_index (texto):\n",
    "    x=0\n",
    "    try:\n",
    "        x= textstat.coleman_liau_index(texto)\n",
    "    except:\n",
    "        x=0\n",
    "    return x\n",
    "            \n",
    "def calc_flesch_kincaid_grade (texto):\n",
    "    x=0\n",
    "    try:\n",
    "        ASL = textstat.avg_sentence_length(texto)\n",
    "        ASW = textstat.avg_syllables_per_word(texto)\n",
    "        FKRA = float(0.39 * ASL) + float(11.8 * ASW) - 15.59\n",
    "        x= round(FKRA, 1)\n",
    "    except:\n",
    "        x=0\n",
    "    return x\n",
    "\n",
    "\n",
    "\n",
    "def calcAmbiguidadte(sentence):\n",
    "    tokens = nltk.word_tokenize(sentence)\n",
    "\n",
    "    #check lenght words\n",
    "    tokens = [w.lower() for w in tokens if len(w)<20]\n",
    "    \n",
    "    #stopwordremoval\n",
    "    #stop = stopwords.words('english')\n",
    "    #tokens = [w.lower() for w in tokens if w not in stop]\n",
    "    \n",
    "    postag= nltk.pos_tag(tokens)\n",
    "\n",
    "\n",
    "    nVerb=0\n",
    "    nNoun=0\n",
    "    nAdjective=0\n",
    "    nAdverb=0\n",
    "\n",
    "    mVerb=0\n",
    "    mNoun=0\n",
    "    mAdjective=0\n",
    "    mAdverb=0\n",
    "\n",
    "    avgMVerb = 0\n",
    "    avgMNoun = 0\n",
    "    avgMAdjective = 0\n",
    "    avgMAdverb = 0\n",
    "\n",
    "    AvgAmbiquity = 0\n",
    "\n",
    "\n",
    "    #Tag Meaning\n",
    "    #https://www.ling.upenn.edu/courses/Fall_2003/ling001/penn_treebank_pos.html\n",
    "\n",
    "    for tag in postag:\n",
    "        word = tag[0]\n",
    "        word_clas = tag[1]\n",
    "        #print(word_clas)\n",
    "        if word_clas == \"VB\" or word_clas == \"VBD\" or word_clas == \"VBG\" or word_clas == \"VBN\" or word_clas == \"VBP\" or word_clas == \"VBZ\" :\n",
    "            nVerb +=1\n",
    "            mVerb += len(wn.synsets(word))\n",
    "        elif word_clas == \"NN\" or word_clas == \"NNS\" or word_clas == \"NNP\" or word_clas == \"NNPS\" :\n",
    "            nNoun +=1\n",
    "            mNoun += len(wn.synsets(word))\n",
    "        elif word_clas == \"JJ\" or word_clas == \"JJR\" or word_clas == \"JJS\" :\n",
    "            nAdjective +=1\n",
    "            mAdjective += len(wn.synsets(word))\n",
    "        elif word_clas == \"RB\" or word_clas == \"RBR\" or word_clas == \"RBS\":\n",
    "            nAdverb +=1\n",
    "            mAdverb += len(wn.synsets(word))\n",
    "\n",
    "\n",
    "    if nVerb > 0: avgMVerb =  mVerb / float(nVerb)\n",
    "    if nNoun > 0: avgMNoun = mNoun / float(nNoun)\n",
    "    if nAdjective > 0: avgMAdjective = mAdjective / float(nAdjective)\n",
    "    if nAdverb > 0: avgMAdverb = mAdverb / float(nAdverb)\n",
    "\n",
    "    if (nVerb+nNoun+nAdjective+nAdverb) > 0: AvgAmbiquity = (mVerb+mNoun+mAdjective+mAdverb) / float(nVerb+nNoun+nAdjective+nAdverb)\n",
    "    return AvgAmbiquity\n",
    "\n",
    "\n"
   ]
  },
  {
   "cell_type": "code",
   "execution_count": 54,
   "metadata": {
    "collapsed": false,
    "scrolled": true
   },
   "outputs": [
    {
     "name": "stdout",
     "output_type": "stream",
     "text": [
      "Text Ambiguity level:\n"
     ]
    },
    {
     "data": {
      "text/plain": [
       "8.585365853658537"
      ]
     },
     "execution_count": 54,
     "metadata": {},
     "output_type": "execute_result"
    }
   ],
   "source": [
    "print \"Text Ambiguity level:\"\n",
    "#calcAmbiguidadte(\"The original Latin word universitas refers in general to a number of persons associated into one body, a society, company, community, guild, corporation, etc. At the time of the emergence of urban town life and medieval guilds, specialised associations of students and teachers with collective legal rights usually guaranteed by charters issued by princes, prelates, or the towns in which they were located came to be denominated by this general term. Like other guilds, they were self-regulating and determined the qualifications of their members.\")\n",
    "calcAmbiguidadte(\"Life hack: drink 13 Pumpkin Spice Lattes in a row, and your bathroom will smell just like fall! Got caught smoking a hookah. Damn Armenian paparazzi! #ConanArmenia http://t.co/ochCoX700D Celebrating my assistant Sona's birthday in her homeland of Armenia. http://t.co/ofwfFWdQC5 #ConanArmenia Brought my assistant Sona home to Armenia. It was this or give her a raise. #ConanArmenia airs 11/10. http://t.co/m4beg84uHV\")"
   ]
  },
  {
   "cell_type": "code",
   "execution_count": 24,
   "metadata": {
    "collapsed": false,
    "scrolled": true
   },
   "outputs": [],
   "source": [
    "dfSuya = pd.read_csv(\"suyapc_tweets.csv\", encoding='utf-8')\n",
    "dfConan = pd.read_csv(\"ConanObrien_tweets.csv\", encoding='utf-8')\n",
    "dfGod = pd.read_csv(\"TheTweetOfGod_tweets.csv\", encoding='utf-8')\n",
    "\n",
    "\n",
    "\"\"\"for index, row in dataset.iterrows():\n",
    "    stat= row['text']\n",
    "    calc_basic_metrics(stat)\n",
    "\"\"\"\n",
    "\n",
    "def dfMetrics (dataframe):\n",
    "    dataframe['word_count'] = dataframe['text'].map(lambda x: calc_basic_metrics(x).word_count )\n",
    "    dataframe['sentence_count'] = dataframe['text'].map(lambda x: calc_basic_metrics(x).sentence_count )\n",
    "    dataframe['syllable_count'] = dataframe['text'].map(lambda x: calc_basic_metrics(x).syllable_count )\n",
    "    dataframe['avg_syllables_per_word'] = dataframe['text'].map(lambda x: calc_basic_metrics(x).avg_syllables_per_word )\n",
    "    dataframe['avg_sentence_length'] = dataframe['text'].map(lambda x: calc_basic_metrics(x).avg_sentence_length )\n",
    "\n"
   ]
  },
  {
   "cell_type": "code",
   "execution_count": 25,
   "metadata": {
    "collapsed": true
   },
   "outputs": [],
   "source": [
    "dfMetrics(dfConan)\n"
   ]
  },
  {
   "cell_type": "code",
   "execution_count": 28,
   "metadata": {
    "collapsed": true
   },
   "outputs": [],
   "source": [
    "dfMetrics(dfGod)\n"
   ]
  },
  {
   "cell_type": "code",
   "execution_count": 69,
   "metadata": {
    "collapsed": false
   },
   "outputs": [
    {
     "data": {
      "text/html": [
       "<div>\n",
       "<table border=\"1\" class=\"dataframe\">\n",
       "  <thead>\n",
       "    <tr style=\"text-align: right;\">\n",
       "      <th></th>\n",
       "      <th>id</th>\n",
       "      <th>created_at</th>\n",
       "      <th>text</th>\n",
       "      <th>word_count</th>\n",
       "      <th>sentence_count</th>\n",
       "      <th>syllable_count</th>\n",
       "      <th>avg_syllables_per_word</th>\n",
       "      <th>avg_sentence_length</th>\n",
       "    </tr>\n",
       "  </thead>\n",
       "  <tbody>\n",
       "    <tr>\n",
       "      <th>0</th>\n",
       "      <td>659553236718919680</td>\n",
       "      <td>2015-10-29 02:12:00</td>\n",
       "      <td>According to a new study, 10% of vegetarian “hot dogs” contain meat. So if you’ve ever enjoyed a vegetarian hot dog, now you know why.</td>\n",
       "      <td>25</td>\n",
       "      <td>2</td>\n",
       "      <td>33</td>\n",
       "      <td>1.3</td>\n",
       "      <td>12</td>\n",
       "    </tr>\n",
       "    <tr>\n",
       "      <th>1</th>\n",
       "      <td>659084916794249217</td>\n",
       "      <td>2015-10-27 19:11:04</td>\n",
       "      <td>The city of Los Angeles voted to allow residents to house up to five cats at a time. Now I have to figure out which 7 to get rid of.</td>\n",
       "      <td>30</td>\n",
       "      <td>2</td>\n",
       "      <td>38</td>\n",
       "      <td>1.3</td>\n",
       "      <td>15</td>\n",
       "    </tr>\n",
       "    <tr>\n",
       "      <th>2</th>\n",
       "      <td>658742954195075072</td>\n",
       "      <td>2015-10-26 20:32:13</td>\n",
       "      <td>The IRS is now giving full married-couple tax status to same-sex couples. Which explains the new app, “Grindr-Just-For-Tax-Purposes.”</td>\n",
       "      <td>18</td>\n",
       "      <td>2</td>\n",
       "      <td>30</td>\n",
       "      <td>1.7</td>\n",
       "      <td>9</td>\n",
       "    </tr>\n",
       "    <tr>\n",
       "      <th>3</th>\n",
       "      <td>658328544305664001</td>\n",
       "      <td>2015-10-25 17:05:30</td>\n",
       "      <td>Just now envisioning how weird it would have been for the original patriots to square off against real, actual jets.</td>\n",
       "      <td>20</td>\n",
       "      <td>1</td>\n",
       "      <td>28</td>\n",
       "      <td>1.4</td>\n",
       "      <td>20</td>\n",
       "    </tr>\n",
       "    <tr>\n",
       "      <th>4</th>\n",
       "      <td>657971146709712897</td>\n",
       "      <td>2015-10-24 17:25:20</td>\n",
       "      <td>I’m wondering if now that he dropped out I can still wear my “Sexy Lincoln Chafee” costume for Halloween.</td>\n",
       "      <td>19</td>\n",
       "      <td>1</td>\n",
       "      <td>26</td>\n",
       "      <td>1.4</td>\n",
       "      <td>19</td>\n",
       "    </tr>\n",
       "  </tbody>\n",
       "</table>\n",
       "</div>"
      ],
      "text/plain": [
       "                   id           created_at  \\\n",
       "0  659553236718919680  2015-10-29 02:12:00   \n",
       "1  659084916794249217  2015-10-27 19:11:04   \n",
       "2  658742954195075072  2015-10-26 20:32:13   \n",
       "3  658328544305664001  2015-10-25 17:05:30   \n",
       "4  657971146709712897  2015-10-24 17:25:20   \n",
       "\n",
       "                                                                                                                                     text  \\\n",
       "0  According to a new study, 10% of vegetarian “hot dogs” contain meat. So if you’ve ever enjoyed a vegetarian hot dog, now you know why.   \n",
       "1  The city of Los Angeles voted to allow residents to house up to five cats at a time. Now I have to figure out which 7 to get rid of.     \n",
       "2  The IRS is now giving full married-couple tax status to same-sex couples. Which explains the new app, “Grindr-Just-For-Tax-Purposes.”    \n",
       "3  Just now envisioning how weird it would have been for the original patriots to square off against real, actual jets.                     \n",
       "4  I’m wondering if now that he dropped out I can still wear my “Sexy Lincoln Chafee” costume for Halloween.                                \n",
       "\n",
       "   word_count  sentence_count  syllable_count  avg_syllables_per_word  \\\n",
       "0  25          2               33              1.3                      \n",
       "1  30          2               38              1.3                      \n",
       "2  18          2               30              1.7                      \n",
       "3  20          1               28              1.4                      \n",
       "4  19          1               26              1.4                      \n",
       "\n",
       "   avg_sentence_length  \n",
       "0  12                   \n",
       "1  15                   \n",
       "2  9                    \n",
       "3  20                   \n",
       "4  19                   "
      ]
     },
     "execution_count": 69,
     "metadata": {},
     "output_type": "execute_result"
    }
   ],
   "source": [
    "dfConan.head()"
   ]
  },
  {
   "cell_type": "code",
   "execution_count": 27,
   "metadata": {
    "collapsed": false
   },
   "outputs": [
    {
     "data": {
      "text/plain": [
       "<matplotlib.axes._subplots.AxesSubplot at 0x114ae9610>"
      ]
     },
     "execution_count": 27,
     "metadata": {},
     "output_type": "execute_result"
    },
    {
     "data": {
      "image/png": "[encoded data removed]",
      "text/plain": [
       "<matplotlib.figure.Figure at 0x114ade3d0>"
      ]
     },
     "metadata": {},
     "output_type": "display_data"
    }
   ],
   "source": [
    "dfConan['word_count'].hist()"
   ]
  },
  {
   "cell_type": "code",
   "execution_count": 34,
   "metadata": {
    "collapsed": false
   },
   "outputs": [
    {
     "data": {
      "text/plain": [
       "<matplotlib.axes._subplots.AxesSubplot at 0x10d5e45d0>"
      ]
     },
     "execution_count": 34,
     "metadata": {},
     "output_type": "execute_result"
    },
    {
     "data": {
      "image/png": "[encoded data removed]",
      "text/plain": [
       "<matplotlib.figure.Figure at 0x10d5e5590>"
      ]
     },
     "metadata": {},
     "output_type": "display_data"
    }
   ],
   "source": [
    "dfGod['word_count'].hist()"
   ]
  },
  {
   "cell_type": "code",
   "execution_count": 14,
   "metadata": {
    "collapsed": false
   },
   "outputs": [
    {
     "data": {
      "text/plain": [
       "<matplotlib.axes._subplots.AxesSubplot at 0x109e8ad10>"
      ]
     },
     "execution_count": 14,
     "metadata": {},
     "output_type": "execute_result"
    },
    {
     "data": {
      "image/png": "[encoded data removed]",
      "text/plain": [
       "<matplotlib.figure.Figure at 0x109e932d0>"
      ]
     },
     "metadata": {},
     "output_type": "display_data"
    }
   ],
   "source": [
    "dfGod['word_count'].plot(kind='box')"
   ]
  },
  {
   "cell_type": "code",
   "execution_count": 16,
   "metadata": {
    "collapsed": false
   },
   "outputs": [
    {
     "data": {
      "text/plain": [
       "<matplotlib.axes._subplots.AxesSubplot at 0x114091cd0>"
      ]
     },
     "execution_count": 16,
     "metadata": {},
     "output_type": "execute_result"
    },
    {
     "data": {
      "image/png": "[encoded data removed]",
      "text/plain": [
       "<matplotlib.figure.Figure at 0x11403b450>"
      ]
     },
     "metadata": {},
     "output_type": "display_data"
    }
   ],
   "source": [
    "dfGod['sentence_count'].hist()"
   ]
  },
  {
   "cell_type": "code",
   "execution_count": 33,
   "metadata": {
    "collapsed": false
   },
   "outputs": [
    {
     "data": {
      "text/plain": [
       "<matplotlib.axes._subplots.AxesSubplot at 0x11420cbd0>"
      ]
     },
     "execution_count": 33,
     "metadata": {},
     "output_type": "execute_result"
    },
    {
     "data": {
      "image/png": "[encoded data removed]",
      "text/plain": [
       "<matplotlib.figure.Figure at 0x10d5abd10>"
      ]
     },
     "metadata": {},
     "output_type": "display_data"
    }
   ],
   "source": [
    "dfConan['sentence_count'].plot()"
   ]
  },
  {
   "cell_type": "code",
   "execution_count": 68,
   "metadata": {
    "collapsed": false
   },
   "outputs": [
    {
     "data": {
      "text/plain": [
       "(-0.5, 399.5, 199.5, -0.5)"
      ]
     },
     "execution_count": 68,
     "metadata": {},
     "output_type": "execute_result"
    },
    {
     "data": {
      "image/png": "[encoded data removed]",
      "text/plain": [
       "<matplotlib.figure.Figure at 0x116d6e450>"
      ]
     },
     "metadata": {},
     "output_type": "display_data"
    }
   ],
   "source": [
    "textTotal = \"\"\n",
    "for index, row in dfConan.iterrows():\n",
    "    stat = row['text']\n",
    "    textTotal = textTotal + stat\n",
    "    \n",
    "stopwords = STOPWORDS.copy()\n",
    "stopwords.add(\"t\")\n",
    "stopwords.add(\"co\")\n",
    "stopwords.add(\"y\")\n",
    "stopwords.add(\"m\")\n",
    "stopwords.add(\"s\")\n",
    "\n",
    "\n",
    "\n",
    "\n",
    "wordcloud = WordCloud(stopwords=stopwords,margin=10,max_font_size=80).generate(textTotal)\n",
    "plt.imshow(wordcloud)\n",
    "plt.axis(\"off\")\n"
   ]
  },
  {
   "cell_type": "code",
   "execution_count": null,
   "metadata": {
    "collapsed": false
   },
   "outputs": [],
   "source": []
  },
  {
   "cell_type": "code",
   "execution_count": null,
   "metadata": {
    "collapsed": false
   },
   "outputs": [],
   "source": []
  },
  {
   "cell_type": "code",
   "execution_count": null,
   "metadata": {
    "collapsed": true
   },
   "outputs": [],
   "source": []
  },
  {
   "cell_type": "code",
   "execution_count": null,
   "metadata": {
    "collapsed": true
   },
   "outputs": [],
   "source": []
  },
  {
   "cell_type": "code",
   "execution_count": null,
   "metadata": {
    "collapsed": true
   },
   "outputs": [],
   "source": []
  },
  {
   "cell_type": "code",
   "execution_count": null,
   "metadata": {
    "collapsed": true
   },
   "outputs": [],
   "source": []
  },
  {
   "cell_type": "code",
   "execution_count": null,
   "metadata": {
    "collapsed": true
   },
   "outputs": [],
   "source": []
  },
  {
   "cell_type": "code",
   "execution_count": null,
   "metadata": {
    "collapsed": true
   },
   "outputs": [],
   "source": []
  },
  {
   "cell_type": "code",
   "execution_count": null,
   "metadata": {
    "collapsed": true
   },
   "outputs": [],
   "source": []
  },
  {
   "cell_type": "code",
   "execution_count": null,
   "metadata": {
    "collapsed": true
   },
   "outputs": [],
   "source": []
  },
  {
   "cell_type": "code",
   "execution_count": null,
   "metadata": {
    "collapsed": true
   },
   "outputs": [],
   "source": []
  },
  {
   "cell_type": "code",
   "execution_count": null,
   "metadata": {
    "collapsed": true
   },
   "outputs": [],
   "source": []
  },
  {
   "cell_type": "code",
   "execution_count": null,
   "metadata": {
    "collapsed": true
   },
   "outputs": [],
   "source": []
  },
  {
   "cell_type": "code",
   "execution_count": null,
   "metadata": {
    "collapsed": true
   },
   "outputs": [],
   "source": []
  },
  {
   "cell_type": "code",
   "execution_count": null,
   "metadata": {
    "collapsed": true
   },
   "outputs": [],
   "source": []
  }
 ],
 "metadata": {
  "kernelspec": {
   "display_name": "Python 2",
   "language": "python",
   "name": "python2"
  },
  "language_info": {
   "codemirror_mode": {
    "name": "ipython",
    "version": 2
   },
   "file_extension": ".py",
   "mimetype": "text/x-python",
   "name": "python",
   "nbconvert_exporter": "python",
   "pygments_lexer": "ipython2",
   "version": "2.7.3"
  }
 },
 "nbformat": 4,
 "nbformat_minor": 0
}
