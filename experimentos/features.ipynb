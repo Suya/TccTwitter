{
 "cells": [
  {
   "cell_type": "code",
   "execution_count": 2,
   "metadata": {
    "collapsed": false
   },
   "outputs": [],
   "source": [
    "#nltk.download()"
   ]
  },
  {
   "cell_type": "markdown",
   "metadata": {},
   "source": [
    "# Notebook para extrair features de menções\n",
    "## Nome: "
   ]
  },
  {
   "cell_type": "code",
   "execution_count": 3,
   "metadata": {
    "collapsed": false
   },
   "outputs": [
    {
     "data": {
      "text/html": [
       "<script>\n",
       "code_show=true; \n",
       "function code_toggle() {\n",
       " if (code_show){\n",
       " $('div.input').hide();\n",
       " } else {\n",
       " $('div.input').show();\n",
       " }\n",
       " code_show = !code_show\n",
       "} \n",
       "$( document ).ready(code_toggle);\n",
       "</script>\n",
       "<form action=\"javascript:code_toggle()\"><input type=\"submit\" value=\"Click here to toggle on/off the raw code.\"></form>"
      ],
      "text/plain": [
       "<IPython.core.display.HTML object>"
      ]
     },
     "execution_count": 3,
     "metadata": {},
     "output_type": "execute_result"
    }
   ],
   "source": [
    "from IPython.display import HTML\n",
    "\n",
    "HTML('''<script>\n",
    "code_show=true; \n",
    "function code_toggle() {\n",
    " if (code_show){\n",
    " $('div.input').hide();\n",
    " } else {\n",
    " $('div.input').show();\n",
    " }\n",
    " code_show = !code_show\n",
    "} \n",
    "$( document ).ready(code_toggle);\n",
    "</script>\n",
    "<form action=\"javascript:code_toggle()\"><input type=\"submit\" value=\"Click here to toggle on/off the raw code.\"></form>''')"
   ]
  },
  {
   "cell_type": "code",
   "execution_count": 57,
   "metadata": {
    "collapsed": false
   },
   "outputs": [],
   "source": [
    "import numpy as np\n",
    "from pylab import *\n",
    "import csv\n",
    "from wordcloud import WordCloud, STOPWORDS\n",
    "\n",
    "\n",
    "#import utils\n",
    "\n",
    "%matplotlib inline\n",
    "import matplotlib.pyplot as plt\n",
    "import pandas as pd\n",
    "\n",
    "import json\n",
    "\n",
    "\n",
    "import json\n",
    "import csv\n",
    "import gc\n",
    "from pandas import read_csv\n",
    "\n",
    "\n",
    "\n",
    "\n"
   ]
  },
  {
   "cell_type": "code",
   "execution_count": 58,
   "metadata": {
    "collapsed": false
   },
   "outputs": [],
   "source": [
    "#calcular flesch_reading e ambiguidade\n",
    "\n",
    "from textstat.textstat import textstat\n",
    "\n",
    "import nltk\n",
    "from nltk.tokenize import sent_tokenize\n",
    "from nltk import word_tokenize\n",
    "import string\n",
    "from nltk.corpus import wordnet as wn\n",
    "from nltk.corpus import stopwords\n",
    "\n",
    "#nltk.download()\n",
    "\n",
    "\n",
    "pd.set_option('display.max_colwidth', -1)\n",
    "#textD=reviewFileDF['text'][:1].astype(str)\n",
    "\n",
    "\n",
    "class text_object(object):\n",
    "\n",
    "    def __init__(self):\n",
    "        self.word_count = 0\n",
    "        self.sentence_count = 0\n",
    "        self.syllable_count = 0\n",
    "        self.number_diff_words = 0 #to be calculated\n",
    "        self.avg_syllables_per_word = 0\n",
    "        self.avg_sentence_length = 0\n",
    "        #should frequency and top words be included?\n",
    "        \n",
    "    def print_metrics(self):\n",
    "        print \"word count =\"\n",
    "        print self.word_count\n",
    "    \n",
    "        print \"sentence count =\"\n",
    "        print self.sentence_count\n",
    "    \n",
    "        print \"syllable count =\"\n",
    "        print self.syllable_count\n",
    "    \n",
    "        print \"avg syllable per word =\"\n",
    "        print self.avg_syllables_per_word\n",
    "    \n",
    "        print \"avg sentence length =\"\n",
    "        print self.avg_sentence_length\n",
    "\n",
    "        \n",
    "def calc_basic_metrics (stat):\n",
    "\n",
    "    #numberDiffWords #to be calculated\n",
    "    textObj = text_object()\n",
    "        \n",
    "    textObj.sentence_count = sentence_count(stat)\n",
    "    textObj.word_count = word_count(stat)\n",
    "    textObj.syllable_count = syllable_count(stat)    \n",
    "    textObj.avg_syllables_per_word = avg_syllables_per_word(stat)\n",
    "    textObj.avg_sentence_length = avg_sentence_length(stat)\n",
    "    \n",
    "    #dfTwitter.write_csv(\"/sdf/asdf/asd\")\n",
    "    \n",
    "    return textObj\n",
    "        \n",
    "def preprocess_text(texto):\n",
    "    tokens = nltk.word_tokenize(texto.decode('utf-8'))\n",
    "    #check lenght words\n",
    "    words = [w.lower() for w in tokens if len(w)<20]\n",
    "    #print(words)   \n",
    "\n",
    "    #print(texto)   \n",
    "    #texto = nltk.Text(words)\n",
    "    return \"\".join([\" \"+i if not i.startswith(\"'\") and i not in string.punctuation else i for i in words]).strip()  \n",
    "\n",
    "def avg_sentence_length (texto):\n",
    "    x=0\n",
    "    try:\n",
    "        x= textstat.avg_sentence_length(texto)\n",
    "    except:\n",
    "        x=0\n",
    "    return x\n",
    "\n",
    "def avg_syllables_per_word (texto):\n",
    "    x=0\n",
    "    try:\n",
    "        x= textstat.avg_syllables_per_word(texto)\n",
    "    except:\n",
    "        x=0\n",
    "    return x\n",
    "\n",
    "def word_count (texto):\n",
    "    x=0\n",
    "    try:\n",
    "        x= textstat.lexicon_count(texto)\n",
    "    except:\n",
    "        x=0\n",
    "    return x\n",
    "\n",
    "def sentence_count (texto):\n",
    "    x=0\n",
    "    try:\n",
    "        x= textstat.sentence_count(texto)\n",
    "    except:\n",
    "        x=0\n",
    "    return x\n",
    "\n",
    "def syllable_count (texto):\n",
    "    x=0\n",
    "    try:\n",
    "        x= textstat.syllable_count(texto)\n",
    "    except:\n",
    "        x=0\n",
    "    return x\n",
    "\n",
    "def calc_flesch_reading_ease( text):\n",
    "\n",
    "    #text = preprocess_text(text)\n",
    "    x=0\n",
    "    try:\n",
    "        ASL = textstat.avg_sentence_length(text)\n",
    "        ASW = textstat.avg_syllables_per_word(text)\n",
    "\n",
    "        FRE = 206.835 - float(1.015 * ASL) - float(84.6 * ASW)\n",
    "        return round(FRE, 2)\n",
    "    except:\n",
    "        return 0\n",
    "\n",
    "def calc_coleman_liau_index (texto):\n",
    "    x=0\n",
    "    try:\n",
    "        x= textstat.coleman_liau_index(texto)\n",
    "    except:\n",
    "        x=0\n",
    "    return x\n",
    "            \n",
    "def calc_flesch_kincaid_grade (texto):\n",
    "    x=0\n",
    "    try:\n",
    "        ASL = textstat.avg_sentence_length(texto)\n",
    "        ASW = textstat.avg_syllables_per_word(texto)\n",
    "        FKRA = float(0.39 * ASL) + float(11.8 * ASW) - 15.59\n",
    "        x= round(FKRA, 1)\n",
    "    except:\n",
    "        x=0\n",
    "    return x\n",
    "\n",
    "\n",
    "\n",
    "def calcAmbiguidadte(sentence):\n",
    "    tokens = nltk.word_tokenize(sentence)\n",
    "\n",
    "    #check lenght words\n",
    "    tokens = [w.lower() for w in tokens if len(w)<20]\n",
    "    \n",
    "    #stopwordremoval\n",
    "    #stop = stopwords.words('english')\n",
    "    #tokens = [w.lower() for w in tokens if w not in stop]\n",
    "    \n",
    "    postag= nltk.pos_tag(tokens)\n",
    "\n",
    "\n",
    "    nVerb=0\n",
    "    nNoun=0\n",
    "    nAdjective=0\n",
    "    nAdverb=0\n",
    "\n",
    "    mVerb=0\n",
    "    mNoun=0\n",
    "    mAdjective=0\n",
    "    mAdverb=0\n",
    "\n",
    "    avgMVerb = 0\n",
    "    avgMNoun = 0\n",
    "    avgMAdjective = 0\n",
    "    avgMAdverb = 0\n",
    "\n",
    "    AvgAmbiquity = 0\n",
    "\n",
    "\n",
    "    #Tag Meaning\n",
    "    #https://www.ling.upenn.edu/courses/Fall_2003/ling001/penn_treebank_pos.html\n",
    "\n",
    "    for tag in postag:\n",
    "        word = tag[0]\n",
    "        word_clas = tag[1]\n",
    "        #print(word_clas)\n",
    "        if word_clas == \"VB\" or word_clas == \"VBD\" or word_clas == \"VBG\" or word_clas == \"VBN\" or word_clas == \"VBP\" or word_clas == \"VBZ\" :\n",
    "            nVerb +=1\n",
    "            mVerb += len(wn.synsets(word))\n",
    "        elif word_clas == \"NN\" or word_clas == \"NNS\" or word_clas == \"NNP\" or word_clas == \"NNPS\" :\n",
    "            nNoun +=1\n",
    "            mNoun += len(wn.synsets(word))\n",
    "        elif word_clas == \"JJ\" or word_clas == \"JJR\" or word_clas == \"JJS\" :\n",
    "            nAdjective +=1\n",
    "            mAdjective += len(wn.synsets(word))\n",
    "        elif word_clas == \"RB\" or word_clas == \"RBR\" or word_clas == \"RBS\":\n",
    "            nAdverb +=1\n",
    "            mAdverb += len(wn.synsets(word))\n",
    "\n",
    "\n",
    "    if nVerb > 0: avgMVerb =  mVerb / float(nVerb)\n",
    "    if nNoun > 0: avgMNoun = mNoun / float(nNoun)\n",
    "    if nAdjective > 0: avgMAdjective = mAdjective / float(nAdjective)\n",
    "    if nAdverb > 0: avgMAdverb = mAdverb / float(nAdverb)\n",
    "\n",
    "    if (nVerb+nNoun+nAdjective+nAdverb) > 0: AvgAmbiquity = (mVerb+mNoun+mAdjective+mAdverb) / float(nVerb+nNoun+nAdjective+nAdverb)\n",
    "    return AvgAmbiquity\n",
    "\n",
    "\n"
   ]
  },
  {
   "cell_type": "code",
   "execution_count": 54,
   "metadata": {
    "collapsed": false,
    "scrolled": true
   },
   "outputs": [
    {
     "name": "stdout",
     "output_type": "stream",
     "text": [
      "Text Ambiguity level:\n"
     ]
    },
    {
     "data": {
      "text/plain": [
       "8.585365853658537"
      ]
     },
     "execution_count": 54,
     "metadata": {},
     "output_type": "execute_result"
    }
   ],
   "source": [
    "print \"Text Ambiguity level:\"\n",
    "#calcAmbiguidadte(\"The original Latin word universitas refers in general to a number of persons associated into one body, a society, company, community, guild, corporation, etc. At the time of the emergence of urban town life and medieval guilds, specialised associations of students and teachers with collective legal rights usually guaranteed by charters issued by princes, prelates, or the towns in which they were located came to be denominated by this general term. Like other guilds, they were self-regulating and determined the qualifications of their members.\")\n",
    "calcAmbiguidadte(\"Life hack: drink 13 Pumpkin Spice Lattes in a row, and your bathroom will smell just like fall! Got caught smoking a hookah. Damn Armenian paparazzi! #ConanArmenia http://t.co/ochCoX700D Celebrating my assistant Sona's birthday in her homeland of Armenia. http://t.co/ofwfFWdQC5 #ConanArmenia Brought my assistant Sona home to Armenia. It was this or give her a raise. #ConanArmenia airs 11/10. http://t.co/m4beg84uHV\")"
   ]
  },
  {
   "cell_type": "code",
   "execution_count": 95,
   "metadata": {
    "collapsed": false,
    "scrolled": true
   },
   "outputs": [],
   "source": [
    "dfSuya = pd.read_csv(\"suyapc_tweets.csv\", encoding='utf-8')\n",
    "dfConan = pd.read_csv(\"ConanObrien_tweets.csv\", encoding='utf-8')\n",
    "dfGod = pd.read_csv(\"TheTweetOfGod_tweets.csv\", encoding='utf-8')\n",
    "\n",
    "dfHillary = pd.read_csv(\"HillaryClinton_tweets.csv\", encoding='utf-8')\n",
    "dfTrump = pd.read_csv(\"realdonaldtrump_tweets.csv\", encoding='utf-8')\n",
    "\n",
    "\n",
    "\"\"\"for index, row in dataset.iterrows():\n",
    "    stat= row['text']\n",
    "    calc_basic_metrics(stat)\n",
    "\"\"\"\n",
    "\n",
    "def dfMetrics (dataframe):\n",
    "    dataframe['word_count'] = dataframe['text'].map(lambda x: calc_basic_metrics(x).word_count )\n",
    "    dataframe['sentence_count'] = dataframe['text'].map(lambda x: calc_basic_metrics(x).sentence_count )\n",
    "    dataframe['syllable_count'] = dataframe['text'].map(lambda x: calc_basic_metrics(x).syllable_count )\n",
    "    dataframe['avg_syllables_per_word'] = dataframe['text'].map(lambda x: calc_basic_metrics(x).avg_syllables_per_word )\n",
    "    dataframe['avg_sentence_length'] = dataframe['text'].map(lambda x: calc_basic_metrics(x).avg_sentence_length )\n",
    "\n"
   ]
  },
  {
   "cell_type": "code",
   "execution_count": 25,
   "metadata": {
    "collapsed": true
   },
   "outputs": [],
   "source": [
    "dfMetrics(dfConan)\n"
   ]
  },
  {
   "cell_type": "code",
   "execution_count": 28,
   "metadata": {
    "collapsed": true
   },
   "outputs": [],
   "source": [
    "dfMetrics(dfGod)\n"
   ]
  },
  {
   "cell_type": "code",
   "execution_count": 72,
   "metadata": {
    "collapsed": true
   },
   "outputs": [],
   "source": [
    "dfMetrics(dfHillary)\n"
   ]
  },
  {
   "cell_type": "code",
   "execution_count": 96,
   "metadata": {
    "collapsed": false
   },
   "outputs": [],
   "source": [
    "dfMetrics(dfTrump)"
   ]
  },
  {
   "cell_type": "code",
   "execution_count": 73,
   "metadata": {
    "collapsed": false
   },
   "outputs": [
    {
     "data": {
      "text/html": [
       "<div>\n",
       "<table border=\"1\" class=\"dataframe\">\n",
       "  <thead>\n",
       "    <tr style=\"text-align: right;\">\n",
       "      <th></th>\n",
       "      <th>id</th>\n",
       "      <th>created_at</th>\n",
       "      <th>text</th>\n",
       "      <th>word_count</th>\n",
       "      <th>sentence_count</th>\n",
       "      <th>syllable_count</th>\n",
       "      <th>avg_syllables_per_word</th>\n",
       "      <th>avg_sentence_length</th>\n",
       "    </tr>\n",
       "  </thead>\n",
       "  <tbody>\n",
       "    <tr>\n",
       "      <th>0</th>\n",
       "      <td>659704467344875520</td>\n",
       "      <td>2015-10-29 12:12:56</td>\n",
       "      <td>\"Do you think that when you’re president, you’ll be paid as much as a man?\"\\nhttps://t.co/2uQMq2v5ev</td>\n",
       "      <td>16</td>\n",
       "      <td>1</td>\n",
       "      <td>19</td>\n",
       "      <td>1.2</td>\n",
       "      <td>16</td>\n",
       "    </tr>\n",
       "    <tr>\n",
       "      <th>1</th>\n",
       "      <td>659556301127725056</td>\n",
       "      <td>2015-10-29 02:24:10</td>\n",
       "      <td>Tonight's #GOPDebate made it clear: We cannot afford a Republican in the White House. Get your free sticker: https://t.co/o662Sz9ACJ</td>\n",
       "      <td>19</td>\n",
       "      <td>2</td>\n",
       "      <td>31</td>\n",
       "      <td>1.6</td>\n",
       "      <td>9</td>\n",
       "    </tr>\n",
       "    <tr>\n",
       "      <th>2</th>\n",
       "      <td>659555444202070016</td>\n",
       "      <td>2015-10-29 02:20:46</td>\n",
       "      <td>#GOPdebate https://t.co/rBT90JvCmM</td>\n",
       "      <td>2</td>\n",
       "      <td>0</td>\n",
       "      <td>5</td>\n",
       "      <td>2.5</td>\n",
       "      <td>0</td>\n",
       "    </tr>\n",
       "    <tr>\n",
       "      <th>3</th>\n",
       "      <td>659553987105042432</td>\n",
       "      <td>2015-10-29 02:14:59</td>\n",
       "      <td>Will repeat this as often as needed: Women—not the politicians on stage—should make decisions about their own health. #GOPdebate</td>\n",
       "      <td>19</td>\n",
       "      <td>1</td>\n",
       "      <td>32</td>\n",
       "      <td>1.7</td>\n",
       "      <td>19</td>\n",
       "    </tr>\n",
       "    <tr>\n",
       "      <th>4</th>\n",
       "      <td>659550706307698688</td>\n",
       "      <td>2015-10-29 02:01:56</td>\n",
       "      <td>Republicans are looking out for the wealthy and well-connected. Hillary is looking out for us. #GOPdebate\\nhttps://t.co/zTkCxPCBFw</td>\n",
       "      <td>17</td>\n",
       "      <td>2</td>\n",
       "      <td>29</td>\n",
       "      <td>1.7</td>\n",
       "      <td>8</td>\n",
       "    </tr>\n",
       "  </tbody>\n",
       "</table>\n",
       "</div>"
      ],
      "text/plain": [
       "                   id           created_at  \\\n",
       "0  659704467344875520  2015-10-29 12:12:56   \n",
       "1  659556301127725056  2015-10-29 02:24:10   \n",
       "2  659555444202070016  2015-10-29 02:20:46   \n",
       "3  659553987105042432  2015-10-29 02:14:59   \n",
       "4  659550706307698688  2015-10-29 02:01:56   \n",
       "\n",
       "                                                                                                                                   text  \\\n",
       "0  \"Do you think that when you’re president, you’ll be paid as much as a man?\"\\nhttps://t.co/2uQMq2v5ev                                   \n",
       "1  Tonight's #GOPDebate made it clear: We cannot afford a Republican in the White House. Get your free sticker: https://t.co/o662Sz9ACJ   \n",
       "2  #GOPdebate https://t.co/rBT90JvCmM                                                                                                     \n",
       "3  Will repeat this as often as needed: Women—not the politicians on stage—should make decisions about their own health. #GOPdebate       \n",
       "4  Republicans are looking out for the wealthy and well-connected. Hillary is looking out for us. #GOPdebate\\nhttps://t.co/zTkCxPCBFw     \n",
       "\n",
       "   word_count  sentence_count  syllable_count  avg_syllables_per_word  \\\n",
       "0  16          1               19              1.2                      \n",
       "1  19          2               31              1.6                      \n",
       "2  2           0               5               2.5                      \n",
       "3  19          1               32              1.7                      \n",
       "4  17          2               29              1.7                      \n",
       "\n",
       "   avg_sentence_length  \n",
       "0  16                   \n",
       "1  9                    \n",
       "2  0                    \n",
       "3  19                   \n",
       "4  8                    "
      ]
     },
     "execution_count": 73,
     "metadata": {},
     "output_type": "execute_result"
    }
   ],
   "source": [
    "dfHillary.head()"
   ]
  },
  {
   "cell_type": "code",
   "execution_count": 97,
   "metadata": {
    "collapsed": false
   },
   "outputs": [
    {
     "data": {
      "text/html": [
       "<div>\n",
       "<table border=\"1\" class=\"dataframe\">\n",
       "  <thead>\n",
       "    <tr style=\"text-align: right;\">\n",
       "      <th></th>\n",
       "      <th>id</th>\n",
       "      <th>created_at</th>\n",
       "      <th>text</th>\n",
       "      <th>word_count</th>\n",
       "      <th>sentence_count</th>\n",
       "      <th>syllable_count</th>\n",
       "      <th>avg_syllables_per_word</th>\n",
       "      <th>avg_sentence_length</th>\n",
       "    </tr>\n",
       "  </thead>\n",
       "  <tbody>\n",
       "    <tr>\n",
       "      <th>0</th>\n",
       "      <td>659762106602905600</td>\n",
       "      <td>2015-10-29 16:01:58</td>\n",
       "      <td>\"@ZankMatt: Another WIN! @realDonaldTrump https://t.co/yvW3WFA1mP\"</td>\n",
       "      <td>5</td>\n",
       "      <td>0</td>\n",
       "      <td>12</td>\n",
       "      <td>2.4</td>\n",
       "      <td>0</td>\n",
       "    </tr>\n",
       "    <tr>\n",
       "      <th>1</th>\n",
       "      <td>659761323526389760</td>\n",
       "      <td>2015-10-29 15:58:51</td>\n",
       "      <td>\"@victoryorbust: The One, The Only, Donald Trump, will and can Make America Great Again !  @Reince @blewthebigone https://t.co/5kAtLBBFJA\"</td>\n",
       "      <td>17</td>\n",
       "      <td>1</td>\n",
       "      <td>32</td>\n",
       "      <td>1.9</td>\n",
       "      <td>17</td>\n",
       "    </tr>\n",
       "    <tr>\n",
       "      <th>2</th>\n",
       "      <td>659761187328929792</td>\n",
       "      <td>2015-10-29 15:58:19</td>\n",
       "      <td>\"@Kotcha301: @realDonaldTrump I sleep better at night knowing u will soon be POTUS! https://t.co/5gIjiPufMx\" Thank you.</td>\n",
       "      <td>16</td>\n",
       "      <td>1</td>\n",
       "      <td>23</td>\n",
       "      <td>1.4</td>\n",
       "      <td>16</td>\n",
       "    </tr>\n",
       "    <tr>\n",
       "      <th>3</th>\n",
       "      <td>659761038946992128</td>\n",
       "      <td>2015-10-29 15:57:44</td>\n",
       "      <td>\"@neraex: I'm not even american and I want to see @realDonaldTrump win! A person like him is going to set a new standard for world leaders!\"</td>\n",
       "      <td>26</td>\n",
       "      <td>2</td>\n",
       "      <td>34</td>\n",
       "      <td>1.3</td>\n",
       "      <td>13</td>\n",
       "    </tr>\n",
       "    <tr>\n",
       "      <th>4</th>\n",
       "      <td>659760878582022144</td>\n",
       "      <td>2015-10-29 15:57:05</td>\n",
       "      <td>\"@xXFlameriumXx:  @MikeandDawnNY Good job Mr. Trump. The way you respond shows that you truly are ready to be the next US president! #Trump\"</td>\n",
       "      <td>23</td>\n",
       "      <td>2</td>\n",
       "      <td>30</td>\n",
       "      <td>1.3</td>\n",
       "      <td>11</td>\n",
       "    </tr>\n",
       "  </tbody>\n",
       "</table>\n",
       "</div>"
      ],
      "text/plain": [
       "                   id           created_at  \\\n",
       "0  659762106602905600  2015-10-29 16:01:58   \n",
       "1  659761323526389760  2015-10-29 15:58:51   \n",
       "2  659761187328929792  2015-10-29 15:58:19   \n",
       "3  659761038946992128  2015-10-29 15:57:44   \n",
       "4  659760878582022144  2015-10-29 15:57:05   \n",
       "\n",
       "                                                                                                                                           text  \\\n",
       "0  \"@ZankMatt: Another WIN! @realDonaldTrump https://t.co/yvW3WFA1mP\"                                                                             \n",
       "1  \"@victoryorbust: The One, The Only, Donald Trump, will and can Make America Great Again !  @Reince @blewthebigone https://t.co/5kAtLBBFJA\"     \n",
       "2  \"@Kotcha301: @realDonaldTrump I sleep better at night knowing u will soon be POTUS! https://t.co/5gIjiPufMx\" Thank you.                        \n",
       "3  \"@neraex: I'm not even american and I want to see @realDonaldTrump win! A person like him is going to set a new standard for world leaders!\"   \n",
       "4  \"@xXFlameriumXx:  @MikeandDawnNY Good job Mr. Trump. The way you respond shows that you truly are ready to be the next US president! #Trump\"   \n",
       "\n",
       "   word_count  sentence_count  syllable_count  avg_syllables_per_word  \\\n",
       "0  5           0               12              2.4                      \n",
       "1  17          1               32              1.9                      \n",
       "2  16          1               23              1.4                      \n",
       "3  26          2               34              1.3                      \n",
       "4  23          2               30              1.3                      \n",
       "\n",
       "   avg_sentence_length  \n",
       "0  0                    \n",
       "1  17                   \n",
       "2  16                   \n",
       "3  13                   \n",
       "4  11                   "
      ]
     },
     "execution_count": 97,
     "metadata": {},
     "output_type": "execute_result"
    }
   ],
   "source": [
    "dfTrump.head()"
   ]
  },
  {
   "cell_type": "code",
   "execution_count": 74,
   "metadata": {
    "collapsed": false
   },
   "outputs": [
    {
     "data": {
      "text/plain": [
       "<matplotlib.axes._subplots.AxesSubplot at 0x114f9bfd0>"
      ]
     },
     "execution_count": 74,
     "metadata": {},
     "output_type": "execute_result"
    },
    {
     "data": {
      "image/png": "[encoded data removed]",
      "text/plain": [
       "<matplotlib.figure.Figure at 0x10df727d0>"
      ]
     },
     "metadata": {},
     "output_type": "display_data"
    }
   ],
   "source": [
    "dfHillary['word_count'].hist()"
   ]
  },
  {
   "cell_type": "code",
   "execution_count": 98,
   "metadata": {
    "collapsed": false
   },
   "outputs": [
    {
     "data": {
      "text/plain": [
       "<matplotlib.axes._subplots.AxesSubplot at 0x10df4e510>"
      ]
     },
     "execution_count": 98,
     "metadata": {},
     "output_type": "execute_result"
    },
    {
     "data": {
      "image/png": "[encoded data removed]",
      "text/plain": [
       "<matplotlib.figure.Figure at 0x114a81650>"
      ]
     },
     "metadata": {},
     "output_type": "display_data"
    }
   ],
   "source": [
    "dfTrump['word_count'].hist()"
   ]
  },
  {
   "cell_type": "code",
   "execution_count": 75,
   "metadata": {
    "collapsed": false
   },
   "outputs": [
    {
     "data": {
      "text/plain": [
       "<matplotlib.axes._subplots.AxesSubplot at 0x117b34f50>"
      ]
     },
     "execution_count": 75,
     "metadata": {},
     "output_type": "execute_result"
    },
    {
     "data": {
      "image/png": "[encoded data removed]",
      "text/plain": [
       "<matplotlib.figure.Figure at 0x114557550>"
      ]
     },
     "metadata": {},
     "output_type": "display_data"
    }
   ],
   "source": [
    "dfHillary['word_count'].plot(kind='box')"
   ]
  },
  {
   "cell_type": "code",
   "execution_count": 76,
   "metadata": {
    "collapsed": false
   },
   "outputs": [
    {
     "data": {
      "text/plain": [
       "<matplotlib.axes._subplots.AxesSubplot at 0x114d35690>"
      ]
     },
     "execution_count": 76,
     "metadata": {},
     "output_type": "execute_result"
    },
    {
     "data": {
      "image/png": "[encoded data removed]",
      "text/plain": [
       "<matplotlib.figure.Figure at 0x116ec2290>"
      ]
     },
     "metadata": {},
     "output_type": "display_data"
    }
   ],
   "source": [
    "dfHillary['sentence_count'].hist()"
   ]
  },
  {
   "cell_type": "code",
   "execution_count": 77,
   "metadata": {
    "collapsed": false
   },
   "outputs": [
    {
     "data": {
      "text/plain": [
       "<matplotlib.axes._subplots.AxesSubplot at 0x116ec3550>"
      ]
     },
     "execution_count": 77,
     "metadata": {},
     "output_type": "execute_result"
    },
    {
     "data": {
      "image/png": "[encoded data removed]",
      "text/plain": [
       "<matplotlib.figure.Figure at 0x116eefb10>"
      ]
     },
     "metadata": {},
     "output_type": "display_data"
    }
   ],
   "source": [
    "dfHillary['sentence_count'].plot()"
   ]
  },
  {
   "cell_type": "code",
   "execution_count": 88,
   "metadata": {
    "collapsed": false
   },
   "outputs": [
    {
     "data": {
      "text/plain": [
       "(-0.5, 399.5, 199.5, -0.5)"
      ]
     },
     "execution_count": 88,
     "metadata": {},
     "output_type": "execute_result"
    },
    {
     "data": {
      "image/png": "[encoded data removed]",
      "text/plain": [
       "<matplotlib.figure.Figure at 0x1181073d0>"
      ]
     },
     "metadata": {},
     "output_type": "display_data"
    }
   ],
   "source": [
    "textTotal = \"\"\n",
    "for index, row in dfHillary.iterrows():\n",
    "    stat = row['text']\n",
    "    textTotal = textTotal + stat\n",
    "    \n",
    "stopwords = STOPWORDS.copy()\n",
    "stopwords.add(\"t\")\n",
    "stopwords.add(\"co\")\n",
    "stopwords.add(\"rt\")\n",
    "stopwords.add(\"y\")\n",
    "stopwords.add(\"m\")\n",
    "stopwords.add(\"s\")\n",
    "stopwords.add(\"amp\")\n",
    "stopwords.add(\"https\")\n",
    "\n",
    "stopwords.add(\"hillary\")\n",
    "stopwords.add(\"hillary's\")\n",
    "stopwords.add(\"hillaryclinton\")\n",
    "stopwords.add(\"hillary2016\")\n",
    "\n",
    "\n",
    "\n",
    "wordcloud = WordCloud(stopwords=stopwords,margin=10,max_font_size=80).generate(textTotal)\n",
    "plt.imshow(wordcloud)\n",
    "plt.axis(\"off\")\n"
   ]
  },
  {
   "cell_type": "code",
   "execution_count": 100,
   "metadata": {
    "collapsed": false
   },
   "outputs": [
    {
     "data": {
      "text/plain": [
       "(-0.5, 399.5, 199.5, -0.5)"
      ]
     },
     "execution_count": 100,
     "metadata": {},
     "output_type": "execute_result"
    },
    {
     "data": {
      "image/png": "[encoded data removed]",
      "text/plain": [
       "<matplotlib.figure.Figure at 0x10df6fed0>"
      ]
     },
     "metadata": {},
     "output_type": "display_data"
    }
   ],
   "source": [
    "textTotal = \"\"\n",
    "for index, row in dfTrump.iterrows():\n",
    "    stat = row['text']\n",
    "    textTotal = textTotal + stat\n",
    "    \n",
    "stopwords = STOPWORDS.copy()\n",
    "stopwords.add(\"t\")\n",
    "stopwords.add(\"co\")\n",
    "stopwords.add(\"rt\")\n",
    "stopwords.add(\"y\")\n",
    "stopwords.add(\"m\")\n",
    "stopwords.add(\"s\")\n",
    "stopwords.add(\"amp\")\n",
    "stopwords.add(\"https\")\n",
    "\n",
    "stopwords.add(\"donald\")\n",
    "stopwords.add(\"realdonaldtrump\")\n",
    "stopwords.add(\"trump\")\n",
    "stopwords.add(\"trump2016\")\n",
    "\n",
    "\n",
    "\n",
    "wordcloud = WordCloud(stopwords=stopwords,margin=10,max_font_size=80).generate(textTotal)\n",
    "plt.imshow(wordcloud)\n",
    "plt.axis(\"off\")"
   ]
  },
  {
   "cell_type": "code",
   "execution_count": 101,
   "metadata": {
    "collapsed": false
   },
   "outputs": [
    {
     "data": {
      "text/plain": [
       "0       \"@ZankMatt: Another WIN! @realDonaldTrump https://t.co/yvW3WFA1mP\"                                                                                  \n",
       "1       \"@victoryorbust: The One, The Only, Donald Trump, will and can Make America Great Again !  @Reince @blewthebigone https://t.co/5kAtLBBFJA\"          \n",
       "2       \"@Kotcha301: @realDonaldTrump I sleep better at night knowing u will soon be POTUS! https://t.co/5gIjiPufMx\" Thank you.                             \n",
       "3       \"@neraex: I'm not even american and I want to see @realDonaldTrump win! A person like him is going to set a new standard for world leaders!\"        \n",
       "4       \"@xXFlameriumXx:  @MikeandDawnNY Good job Mr. Trump. The way you respond shows that you truly are ready to be the next US president! #Trump\"        \n",
       "5       \"@skillethead58: @realDonaldTrump hell of a job\"                                                                                                    \n",
       "6       \"@derekcarlson: People need to wake up Mr. Trump. You are the most qualified person to ever run for President Of The United States. #Truth\"         \n",
       "7       \"@BentleyforTrump: @realDonaldTrump @DRUDGE_REPORT We need a wall not a Rubio\"                                                                      \n",
       "8       \"@ApolloBohono69: @realDonaldTrump This country needs an unscripted hero like The Donald... #MakeAmericaGreatAgain 💚\"  Thank you.                  \n",
       "9       .@SpeakerRyan Congratulations and good luck - you will do a GREAT job for our wonderful U.S.A.!                                                     \n",
       "10      \"@robertaritzen: @realDonaldTrump We Support You! And Believe that your America's Hope\"  Thanks.                                                    \n",
       "11      Failing host @glennbeck, a mental basketcase, loves SUPERPACS - in other words, he wants your politicians totally controlled by lobbyists!          \n",
       "12      \"@T_Johnson_TJ: @realDonaldTrump you have my vote in my first election great debate last night keep up the good work! #Trump2016\" Thanks.           \n",
       "13      Via @Slate: Who won the #GOPDebate? https://t.co/YHsCQpG63v                                                                                         \n",
       "14      CNBC poll: Trump won #GOPDebate #MakeAmericaGreatAgain #Trump2016 https://t.co/JEyniIGJPJ https://t.co/wEdauo3Drm                                   \n",
       "15      Thank you! https://t.co/MEIiUqKeS9                                                                                                                  \n",
       "16      \"@MikeandDawnNY: @seanmdav Dipshit @JohnJHarwood lied debate always being set for 2 hours If not 4 @realDonaldTrump calling @cnbc out.              \n",
       "17      \"@Dad_Trump: @realDonaldTrump @DRUDGE_REPORT YES!\"                                                                                                  \n",
       "18      \"@d_seaman: @realDonaldTrump @DRUDGE_REPORT DOMINATING. TRUMP!!!!                                                                                   \n",
       "19      \"@DRUDGE_REPORT: TRUMP WINS CNBC INSTANT POLL; RUBIO SECOND... DEVELOPING... https://t.co/6fnTksKipQ\"                                               \n",
       "20      \"@agentvf: @realDonaldTrump Stay strong and get ready for next debate. Great job last night.\"                                                       \n",
       "21      \"@lvphillies08: Once again haters gonna hate...hands down #winner will always be @realDonaldTrump #Trump #Trump2016                                 \n",
       "22      \"@SteveBashino:  Trump good for legal immigration, economy, defense, taxes, Social Security, Medicare, 2nd Amendment, and ALL Americans.\"           \n",
       "23      \"@derekcarlson: DonaldTrump turned a $1 Million loan into $10 Billion. That's like you turning a $1,000 loan into $10 Million. CouldYouDoIt?        \n",
       "24      \"@misterdish69: @cathyspartanj @realDonaldTrump @AshleyEdam @GravisMarketing @OANN https://t.co/W0dgkioGMy\"  Great, thank you!                      \n",
       "25      Thank you to everybody for your wonderful comments on my debate performance - it was a lot of fun! Today I will be speaking in Reno, Nevada.        \n",
       "26      \"@8723g: One thing I learned from @realDonaldTrump : \"Sometimes the best deals are the deals you never make\" We will have strong deal makers        \n",
       "27      \"@AtheistWWonka: @realDonaldTrump @jakistheman by the time you're done everyone will be wearing a Trump tie\"                                        \n",
       "28      \"@eVDefuse: @realDonaldTrump they should just let you be president already, you're already leading in the polls.\"                                   \n",
       "29      \"@jakistheman: @realDonaldTrump keep you're momentum until you win over the White House\"                                                            \n",
       "                                                  ...                                                                                                       \n",
       "3217    \"@celtoid2: @realDonaldTrump @GeoScarborough @HuffPostMedia Your country needs you. Run.                                                            \n",
       "3218    \"@GeoScarborough: Joe Scarborough Thinks Donald Trump Can 'Shake Things Up' In 2016 Election http://t.co/l8FOxDP7Ul via @HuffPostMedia              \n",
       "3219    Jon Stewart is the most overrated joke on television. A wiseguy with no talent. Not smart, but convinces dopes he is! Fading out fast.              \n",
       "3220    \"@Jess_Blanch94: @realDonaldTrump Time for you to announce and run for president Mr. Trump! #YouHaveMyVote\"                                         \n",
       "3221    Wow, the economy is really bad! GROSS DOMESTIC PRODUCT down 0.7% in 1st. quarter - and getting worse. I TOLD YOU SO! Only I can fix.                \n",
       "3222    “Confidence is contagious. So is lack of confidence.” - Vince Lombardi                                                                              \n",
       "3223    ICYMI, Via @nypost by Post Editorial Board: “@TrumpFerryPoint: New Gem in the Bronx” http://t.co/CpDo1mPaHm                                         \n",
       "3224    RT @TrumpCollection: “To us, luxury is about attention to detail” @IvankaTrump talks #TheCollection at Arabian Hotel Investment Conference …        \n",
       "3225    Via @paramuspost: “@TrumpSoHo New York Debuts Sizzling Summer Offerings” http://t.co/CkFeSe3xiH                                                     \n",
       "3226    “Donald Trump To Be In Mason City June 4th”  http://t.co/II29WqZ7WH via @KCHA                                                                       \n",
       "3227    “@TrumpFerryPoint was something we’ve been working on for years and Donald Trump got it to the finish line.” - @rubendiazjr                         \n",
       "3228    Trump Int'l Golf Links &amp; Hotel, Ireland, is on 400 beautiful acres &amp; fronts the Atlantic Ocean for 2.5 miles. Spectac!http://t.co/nT7zundGmV\n",
       "3229    RT @therightnewz: Photo: @realDonaldTrump sitting next to Muhammad Ali at the Tyson/Holmes fight in the late 80s http://t.co/Ghn74VOxNY             \n",
       "3230    Entrepreneurs: Ask yourself: What can I provide that does not yet exist? Be open to new ideas. Be innovative!                                       \n",
       "3231    Entrepreneurs: Set the example. You can motivate others as well as yourself by remembering that you are setting the example.                        \n",
       "3232    Entrepreneurs: Get--and keep--your momentum going. Without momentum, a lot of great ideas go nowhere.                                               \n",
       "3233    Required reading 4 success in politics &amp; life read @kimguilfoyle's book #MakingTheCase. Brilliant Advice ! \\n http://t.co/F64qOBW4zv            \n",
       "3234    \"@ElvisDuranShow Thanks for calling in @realDonaldTrump. Always a pleasure to chat with you! #ElvisOnTopoftheWorld\" And my pleasure, thanks.        \n",
       "3235    RT @mhelzer: Another gorgeous day in the city. This is definitely one building that doesn't blend in w/the rest! @realDonaldTrump http://t.…        \n",
       "3236    RT @csrollyson: Stupendous magic night in #Chitown (@ The Terrace at Trump Tower - @trumpchicago) http://t.co/Ns71kOc1Hr http://t.co/5vLeNJ…        \n",
       "3237    \"@alphainparis: @seanhannity DonaldTrump is the 21st century Ronald Reagan. Intelligent. Bold. Surrounded by good people. Gets the job done.        \n",
       "3238    \"@macresslertech: RT  ObamaCare premiums could jump as high as 51% http://t.co/5jF0J3OY3X Terrible for economy. Repeal &amp; Replace.               \n",
       "3239    I had a fantastic time with @jacknicklaus at the grand opening of the great @TrumpFerryPoint. Watch the video- https://t.co/dvZIzdtuSE              \n",
       "3240    “Face reality as it is, not as it was or as you wish it to be.” - @jack_welch                                                                       \n",
       "3241    It’s time for politicians to be reminded they work for us! We can get it done. Let’s Make America Great Again! https://t.co/u25yI5T7E8              \n",
       "3242    ObamaCare premiums could jump as high as 51% http://t.co/BdBnj4hm99 Terrible for economy. Repeal &amp; Replace with free market solution!           \n",
       "3243    Common Core is a federal takeover of school curriculum. Department of Education should be disbanded not expanded. Focus on local education.         \n",
       "3244    Via @AmericanThinker by Malcolm Unwell: “Taking Trump Seriously” http://t.co/RbpJsMDE2M                                                             \n",
       "3245    “Get some face time in The Spa at @TrumpLasVegas” http://t.co/pRzzlV2u0J  via @Vegascom by Renée Libutti                                            \n",
       "3246    My @greta int. on @FoxNews on how to defeat ISIS, Obama losing ground to ISIS, &amp; Making America Great Again! http://t.co/1d4mPmJFaa             \n",
       "Name: text, dtype: object"
      ]
     },
     "execution_count": 101,
     "metadata": {},
     "output_type": "execute_result"
    }
   ],
   "source": [
    "dfTrump.text"
   ]
  },
  {
   "cell_type": "code",
   "execution_count": null,
   "metadata": {
    "collapsed": false
   },
   "outputs": [],
   "source": []
  },
  {
   "cell_type": "code",
   "execution_count": null,
   "metadata": {
    "collapsed": true
   },
   "outputs": [],
   "source": []
  },
  {
   "cell_type": "code",
   "execution_count": null,
   "metadata": {
    "collapsed": true
   },
   "outputs": [],
   "source": []
  },
  {
   "cell_type": "code",
   "execution_count": null,
   "metadata": {
    "collapsed": true
   },
   "outputs": [],
   "source": []
  },
  {
   "cell_type": "code",
   "execution_count": null,
   "metadata": {
    "collapsed": true
   },
   "outputs": [],
   "source": []
  },
  {
   "cell_type": "code",
   "execution_count": null,
   "metadata": {
    "collapsed": true
   },
   "outputs": [],
   "source": []
  },
  {
   "cell_type": "code",
   "execution_count": null,
   "metadata": {
    "collapsed": true
   },
   "outputs": [],
   "source": []
  },
  {
   "cell_type": "code",
   "execution_count": null,
   "metadata": {
    "collapsed": true
   },
   "outputs": [],
   "source": []
  },
  {
   "cell_type": "code",
   "execution_count": null,
   "metadata": {
    "collapsed": true
   },
   "outputs": [],
   "source": []
  },
  {
   "cell_type": "code",
   "execution_count": null,
   "metadata": {
    "collapsed": true
   },
   "outputs": [],
   "source": []
  },
  {
   "cell_type": "code",
   "execution_count": null,
   "metadata": {
    "collapsed": true
   },
   "outputs": [],
   "source": []
  },
  {
   "cell_type": "code",
   "execution_count": null,
   "metadata": {
    "collapsed": true
   },
   "outputs": [],
   "source": []
  },
  {
   "cell_type": "code",
   "execution_count": null,
   "metadata": {
    "collapsed": true
   },
   "outputs": [],
   "source": []
  },
  {
   "cell_type": "code",
   "execution_count": null,
   "metadata": {
    "collapsed": true
   },
   "outputs": [],
   "source": []
  }
 ],
 "metadata": {
  "kernelspec": {
   "display_name": "Python 2",
   "language": "python",
   "name": "python2"
  },
  "language_info": {
   "codemirror_mode": {
    "name": "ipython",
    "version": 2
   },
   "file_extension": ".py",
   "mimetype": "text/x-python",
   "name": "python",
   "nbconvert_exporter": "python",
   "pygments_lexer": "ipython2",
   "version": "2.7.3"
  }
 },
 "nbformat": 4,
 "nbformat_minor": 0
}
